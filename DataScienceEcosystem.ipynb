{
 "cells": [
  {
   "cell_type": "markdown",
   "id": "3f038c1d-e305-4741-9eeb-a748df3a9648",
   "metadata": {},
   "source": [
    "# Data Science Tools and Ecosystems"
   ]
  },
  {
   "cell_type": "markdown",
   "id": "8c4619ad-3d5e-43c4-8251-6086ab5bd175",
   "metadata": {},
   "source": [
    "## Author\n",
    "David Babcock"
   ]
  },
  {
   "cell_type": "markdown",
   "id": "73fdb030-3677-4536-9c56-a444995cb9fe",
   "metadata": {},
   "source": [
    "This notebook will summarize Data Science Tools and Ecosystem."
   ]
  },
  {
   "cell_type": "markdown",
   "id": "0410c0c8-042e-49cd-a6dd-5c2e737145c8",
   "metadata": {},
   "source": [
    "**Objectives:** \n",
    "- List common languages for Data Science\n",
    "- List libraries used by Data Science\n",
    "- Create a table for three open-source development environments.\n",
    "- Evaluate an arithmetic expression for multiplying then adding integers in Python.\n",
    "- Convert 200 minutes into hours using an arithmetic expression in Python"
   ]
  },
  {
   "cell_type": "markdown",
   "id": "3ce82eee-e5a9-418e-87d0-5657fa3bdd92",
   "metadata": {},
   "source": [
    "The more common coding languages that Data Scientists use are:\n",
    "\n",
    "1. R - A statistical programming languages with a popular IDE called RStudio.\n",
    "2. Python - The most widely used and most popular programming language in the data science industry.\n",
    "3. Julia - Designed at MIT for high-performance numerical analysis and computational science.\n",
    "4. JavaScript - A general purpose language that extended beyond the browser. TensorFlow.js and R-js are popular for Data Science.\n",
    "5. C++ - Another general-purpose programming language known for processing speed. Tends to be used for programs that feed data to customers in real-time.\n",
    "6. Java - A general-purpose language that is well-used in the enterprise space.\n",
    "7. Scala - Constructed to address the shortcomings of Java. Apache Spark is the main program that data scientists use from it.\n",
    "8. SQL - A very popular language for databases."
   ]
  },
  {
   "cell_type": "markdown",
   "id": "d9c5707e-55d3-447a-a7fe-853448f1bdbf",
   "metadata": {},
   "source": [
    "Libraries used by data scientists include:\n",
    "\n",
    "1. Pandas - Data structures and tools\n",
    "2. NumPy - Arrays and matrices, allowing application of mathematical functions\n",
    "3. Matplotlib - Data visualization\n",
    "4. Seaborn - Data visualization\n",
    "5. Scikit-learn - High level machine learning\n",
    "6. Keras - High level deep learning model\n",
    "7. TensorFlow - Low-level framework for deep learning\n",
    "8. Pytorch - Deep learning, tends to be used for experimentation\n",
    "9. Apache Spark - Cluster computing framework\n",
    "10. Vegas - Data visualization\n",
    "11. big DL - deep learning\n",
    "12. ggplot2 - data visualization\n",
    "13. GGally - extension library for ggplot2\n",
    "14. Plotly - web-based data visualization\n",
    "15. Lattice - complex, multi-variable data sets\n",
    "16. Leaflet - interactive plots"
   ]
  },
  {
   "cell_type": "markdown",
   "id": "9f495107-95d3-4674-a2f2-8a688f33c52f",
   "metadata": {},
   "source": [
    "| Data Science Tools |\n",
    "| --- |\n",
    "| R Studio | \n",
    "| JupyterLab | \n",
    "| VS Code |"
   ]
  },
  {
   "cell_type": "markdown",
   "id": "082ec902-f8d4-4a34-9f60-6224a4956e12",
   "metadata": {},
   "source": [
    "### Examples of evaluating arithmetic expressions in Python are shown below:"
   ]
  },
  {
   "cell_type": "code",
   "execution_count": 2,
   "id": "7485e945-a4ce-499d-a246-a2b42a290331",
   "metadata": {},
   "outputs": [
    {
     "data": {
      "text/plain": [
       "17"
      ]
     },
     "execution_count": 2,
     "metadata": {},
     "output_type": "execute_result"
    }
   ],
   "source": [
    "# This is a simple arithmetic expression to multiply then add integers.\n",
    "(3*4)+5"
   ]
  },
  {
   "cell_type": "code",
   "execution_count": 3,
   "id": "07cc5c8d-b92b-47f5-a4d7-bb4ce89bb227",
   "metadata": {},
   "outputs": [
    {
     "data": {
      "text/plain": [
       "3.3333333333333335"
      ]
     },
     "execution_count": 3,
     "metadata": {},
     "output_type": "execute_result"
    }
   ],
   "source": [
    "# Convert 200 minutes to hours by dividing by 60.\n",
    "200 / 60"
   ]
  },
  {
   "cell_type": "code",
   "execution_count": null,
   "id": "8b66b05c-a018-4847-b1ba-a1d6a66bef2c",
   "metadata": {},
   "outputs": [],
   "source": []
  }
 ],
 "metadata": {
  "kernelspec": {
   "display_name": "Python 3 (ipykernel)",
   "language": "python",
   "name": "python3"
  },
  "language_info": {
   "codemirror_mode": {
    "name": "ipython",
    "version": 3
   },
   "file_extension": ".py",
   "mimetype": "text/x-python",
   "name": "python",
   "nbconvert_exporter": "python",
   "pygments_lexer": "ipython3",
   "version": "3.12.4"
  }
 },
 "nbformat": 4,
 "nbformat_minor": 5
}
